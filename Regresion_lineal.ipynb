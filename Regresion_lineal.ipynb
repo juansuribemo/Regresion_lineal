{
  "cells": [
    {
      "cell_type": "markdown",
      "metadata": {
        "id": "view-in-github",
        "colab_type": "text"
      },
      "source": [
        "<a href=\"https://colab.research.google.com/github/juansuribemo/Regresion_lineal/blob/main/Regresion_lineal.ipynb\" target=\"_parent\"><img src=\"https://colab.research.google.com/assets/colab-badge.svg\" alt=\"Open In Colab\"/></a>"
      ]
    },
    {
      "cell_type": "markdown",
      "metadata": {
        "id": "Ii_7DdtJH8e2"
      },
      "source": [
        "# Taller 3: Regresión Lineal y Conceptos Fundamentales\n",
        "\n",
        "\n"
      ],
      "id": "Ii_7DdtJH8e2"
    },
    {
      "cell_type": "markdown",
      "metadata": {
        "id": "1KuTZ6PkH8e5"
      },
      "source": [
        "## Instrucciones Generales\n",
        "\n",
        "**Fecha de entrega:** 20 de septiembre.\n",
        "**Tiempo disponible:** Tienen dos clases y el fin de semana para completar el taller.\n",
        "\n",
        "1.  **Trabajo en Grupo:** Este taller se debe realizar en los grupos previamente definidos.\n",
        "2.  **Repositorio en GitHub:** Cada grupo debe crear un repositorio en GitHub.\n",
        "    * Una sola persona del grupo es responsable de crearlo.\n",
        "    * El repositorio debe llamarse **`Regresion_Lineal`**.\n",
        "    * Este archivo debe ser subido al repositorio con el nombre **`Regresion_Lineal.ipynb`**.\n",
        "    * **Alternativa:** Si tienen complicaciones con GitHub, pueden enviar el enlace del cuaderno de Google Colab al aula virtual.\n",
        "3.  **Actividad a Mano (20% de la nota):**\n",
        "    * La asistencia a clase es **obligatoria**.\n",
        "    * Se realizará una actividad práctica de regresión lineal a mano.\n",
        "    * Cada integrante del grupo deberá firmar la hoja de la actividad, la cual constituye el 20% de la nota de este taller."
      ],
      "id": "1KuTZ6PkH8e5"
    },
    {
      "cell_type": "markdown",
      "metadata": {
        "id": "mgaEeFAbH8e7"
      },
      "source": [
        "---"
      ],
      "id": "mgaEeFAbH8e7"
    },
    {
      "cell_type": "markdown",
      "metadata": {
        "id": "et22XL5bH8e7"
      },
      "source": [
        "## **Parte 1: Definición del Problema**\n",
        "\n",
        "Piensa en tu experiencia académica o laboral en un área de operaciones y elige **un problema** relacionado con inventarios, calidad, mantenimiento o productividad.\n",
        "\n",
        "1.  Indica cuál es tu variable dependiente **$Y$** (aquello que quieres predecir o clasificar).\n",
        "2.  Lista entre 3 y 5 variables independientes **$X$** que medirías para predecir $Y$.\n",
        "3.  Especifica si tu problema es de **regresión** (predecir un valor numérico) o de **clasificación**."
      ],
      "id": "et22XL5bH8e7"
    },
    {
      "cell_type": "markdown",
      "metadata": {
        "id": "pxSLPR4AH8e8"
      },
      "source": [
        "Problema elegido: Optimización del nivel de inventario de rollos de tela y productos semi-terminados en la planta (evitar roturas de línea por falta de material y reducir stock inmovilizado).\n",
        "\n",
        "\n",
        "**Respuesta 1:** Variable dependiente (Y): Nivel de inventario óptimo por SKU (rollos de tela o semi-terminado), en metros (o unidades de rollo) por período (ej. por semana).\n",
        "\n",
        "\n",
        "**Respuesta 2:** Demanda real de producción (X₁) — metros requeridos por semana por planificación de órdenes (unidades: metros/semana). Proviene del MRP / órdenes productivas.\n",
        "Lead time proveedor digitalizado (X₂) — tiempo medio de reposición medido en días (incluye trazabilidad por sensores de transporte). (días)\n",
        "Tasa de fallas en línea / scrap (X₃) — metros perdidos por defectos o rechazos en producción por semana (metros/semana).\n",
        "\n",
        "Capacidad efectiva de la línea (X₄) — metros/hora útiles (considera paradas, setups detectadas por IIoT). (m/h)\n",
        "\n",
        "Variabilidad de la demanda (X₅) — desviación estándar semanal de la demanda en los últimos N semanas (metros).\n",
        "\n",
        "**Respuesta 3:** Tipo de problema: Regresión — predecir un valor numérico (nivel de inventario por SKU).\n"
      ],
      "id": "pxSLPR4AH8e8"
    },
    {
      "cell_type": "markdown",
      "metadata": {
        "id": "fGoj1KxxH8e8"
      },
      "source": [
        "---"
      ],
      "id": "fGoj1KxxH8e8"
    },
    {
      "cell_type": "markdown",
      "metadata": {
        "id": "eHOtOSQiH8e9"
      },
      "source": [
        "## **Parte 2: Preprocesamiento de Datos y *Leakage***\n",
        "\n",
        "Basado en el caso que definiste en la Parte 1:\n",
        "\n",
        "1.  Lista entre 3 y 5 **transformaciones** que aplicarías a tus datos (ej. imputación de valores faltantes, codificación de variables categóricas, escalado, creación de *lags*, etc.) y **justifica por qué** cada una es necesaria.\n",
        "2.  Señala un posible riesgo de ***data leakage*** (fuga de datos) en tu plan y explica cómo lo evitarías usando un *pipeline* de preprocesamiento."
      ],
      "id": "eHOtOSQiH8e9"
    },
    {
      "cell_type": "markdown",
      "metadata": {
        "id": "6KYkmr9mH8e9"
      },
      "source": [
        "**Respuesta :** :1.Imputación de valores faltantes por sensor:\n",
        " rellenar faltantes en series temporales de consumo o lecturas de IIoT (p. ej. media móvil o interpolación por tiempo).\n",
        " Por qué: los sensores pueden fallar intermitentemente; perder ventanas de tiempo puede sesgar la estimación de consumo/lead time.\n",
        " 2.Creación de lags y features temporales:\n",
        " Incluir demanda_t-1, demanda_t-2, promedio móvil 4 semanas, y estacionalidad semanal/mensual.\n",
        " Por qué: la demanda textil suele mostrar estacionalidad (colecciones, campañas) y la información histórica inmediata es predictiva.\n",
        " Codificación de variables categóricas de proveedor/fabricante:\n",
        " one-hot para proveedor, tipo de tejido (tejido plano/tejido de punto), línea de producción.\n",
        " Por qué: distintos proveedores/tejidos tienen lead times y tasas de scrap diferentes.\n",
        " 3.Escalado (standardization) de variables continuas:\n",
        "Estandarizar (media 0, varianza 1) para modelos que usan regularización o distancias.\n",
        " Por qué: lead times en días vs metros/hora vs costos están en escalas muy distintas; mejora convergencia y coeficientes interpretables.\n",
        "4.Tratamiento de outliers por eventos (p. ej. parada total por incendio/lockdown):\n",
        "Detectar y marcar eventos (flag) o winsorizar.\n",
        " Por qué: eventos extremos no representativos distorsionan el modelo; pero conviene conservar la información etiquetada como evento.\n",
        "# 2. Riesgo de data leakage y cómo evitarlo con pipeline:\n",
        "Riesgo: usar información futura inadvertida — p. ej. calcular la media móvil usando datos hasta el futuro al crear una variable para el período t (o usar demanda real posterior para ajustar inventario previsto). Otro riesgo: incluir en features indicadores derivados de decisiones tomadas después de conocer la demanda (como órdenes de emergencia colocadas tras una rotura).\n",
        "Prevención (pipeline):\n",
        "Separación temporal train/test/validation por fecha (no muestreo aleatorio): el test debe representar períodos posteriores.\n",
        "Pipeline encadenado que ajusta tranformaciones sólo en train: todas las transformaciones (imputación, scaling, encoding, creación de lags) se fit-ean exclusivamente en datos de entrenamiento y luego se transforman el validation/test sin recalcular parámetros usando esos splits.\n",
        " TimeSeriesSplit o backtesting: usar validación temporal (folds deslizantes) para evaluar robustez sin leakage.\n",
        "Auditoría de features: marcar explícitamente features que usan información de demanda futura y prohibir su inclusión.\n"
      ],
      "id": "6KYkmr9mH8e9"
    },
    {
      "cell_type": "markdown",
      "metadata": {
        "id": "hbyCKrY6H8e-"
      },
      "source": [
        "---"
      ],
      "id": "hbyCKrY6H8e-"
    },
    {
      "cell_type": "markdown",
      "metadata": {
        "id": "ukCTM2EKH8e-"
      },
      "source": [
        "## **Parte 3: Interpretación y Métricas de Regresión Simple**\n",
        "\n",
        "Para esta sección, elige un caso simple de regresión (puede ser el tuyo o uno hipotético, como predecir la demanda de un producto según su precio).\n",
        "\n",
        "1.  Define claramente las variables **$Y$** y **$X$** junto con sus **unidades** (ej. $Y$: número de unidades vendidas, $X$: precio en dólares).\n",
        "2.  Supón que entrenas un modelo y obtienes una pendiente de **$\\hat{\\beta}_1 = -0.6$**. Escribe una interpretación clara y concisa de este coeficiente en el contexto de tu problema.\n",
        "3.  ¿Qué **métrica** de evaluación usarías (MAE, RMSE, o MAPE) y **por qué** es la más adecuada para tu caso?\n",
        "4.  Menciona **un supuesto** del modelo de regresión lineal que validarías (ej. linealidad, homocedasticidad) y explica **cómo** lo harías (usando un gráfico o una prueba estadística)."
      ],
      "id": "ukCTM2EKH8e-"
    },
    {
      "cell_type": "markdown",
      "metadata": {
        "id": "5KGzW8pSH8e_"
      },
      "source": [
        "**Respuesta :**Caso simple elegido: Predecir demanda semanal de un SKU de tela según su precio de venta al producto interno (cuando la planta calcula consumo interno por precio de venta interno/cliente).\n",
        "\n",
        "Y: Demanda semanal del SKU (metros/semana).\n",
        "\n",
        "X: Precio promedio aplicado en la semana (peso colombiano por metro, COP/m).\n",
        "\n",
        "Supongamos que la pendiente estimada β₁ = −120.\n",
        "\n",
        "Interpretación clara: Manteniendo todo lo demás constante, por cada aumento de 1 COP en el precio por metro, la demanda esperada esa semana disminuye en 120 metros. (Un efecto negativo: precio ↑ → demanda ↓).\n",
        "\n",
        "Ejemplo práctico: si el precio sube 10 COP, esperaríamos 1,200 metros menos por semana.\n",
        "\n",
        "Métrica de evaluación elegida: MAPE (Mean Absolute Percentage Error).\n",
        "\n",
        "Por qué: en control de inventarios y demanda nos interesa un error relativo (%), porque los SKUs varían mucho en magnitud (algunos SKU tienen 10 m/semana, otros 10,000 m/semana). MAPE facilita comparar errores entre SKU y priorizar ajustes (por ejemplo, SKU con MAPE alto exigen modelos separados).\n",
        "\n",
        "Nota: si hay muchos valores cercanos a cero, MAPE puede ser inestable; en esos casos preferiría MAE o SMAPE.\n",
        "\n",
        "Supuesto del modelo lineal a validar: Linealidad entre X y Y.\n",
        "\n",
        "Cómo validarlo: graficar residuos vs valores predichos: si no hay patrón (los residuos se distribuyen alrededor de 0 sin tendencia), la linealidad es aceptable. También podría mirar un scatter X vs Y con la línea de regresión. Si sospecho no linealidad, probar transformaciones (log, polinomio) o modelos no lineales.\n"
      ],
      "id": "5KGzW8pSH8e_"
    },
    {
      "cell_type": "markdown",
      "metadata": {
        "id": "NlCf92svH8e_"
      },
      "source": [
        "---"
      ],
      "id": "NlCf92svH8e_"
    },
    {
      "cell_type": "markdown",
      "metadata": {
        "id": "DEOrd_fSH8e_"
      },
      "source": [
        "## **Parte 4: Regresión Múltiple y Colinealidad**\n",
        "\n",
        "Volviendo a tu caso de la Parte 1 (con múltiples variables).\n",
        "\n",
        "1.  Escribe el **vector de variables** $\\vec{X}$ y la **respuesta** $Y$.\n",
        "2.  Explica cómo interpretarías el **coeficiente** de una de tus variables clave (incluyendo unidades y el sentido de la relación: positiva o negativa).\n",
        "3.  Si sospecharas que existe **colinealidad** entre tus variables, menciona **dos acciones** que podrías tomar para mitigarla."
      ],
      "id": "DEOrd_fSH8e_"
    },
    {
      "cell_type": "markdown",
      "metadata": {
        "id": "REUWPUP_H8fA"
      },
      "source": [
        "**Respuesta:**# Vector de variables (X) y respuesta (Y):\n",
        "  𝑋=[𝑋1\n",
        "     𝑋2\n",
        "     𝑋3\n",
        "     𝑋4\n",
        "     𝑋5]\n",
        " donde\n",
        "# 𝑋1= Demanda real de producción (m/semana)\n",
        "# X2= Lead time proveedor (días)\n",
        "# X3= Tasa de scrap (m/semana)\n",
        "# X4= Capacidad efectiva de línea (m/h)\n",
        "# X5= Variabilidad de la demanda (σ, m)\n",
        "# Y = Nivel de inventario óptimo (metros por periodo).\n",
        "# Interpretación de un coeficiente clave (ejemplo: coef. de X₂, lead time):\n",
        "# Supongamos coeficiente\n",
        "# 𝛽2=15 (unidad: metros/día).\n",
        "# Interpretación: manteniendo las otras variables constantes, cada día adicional de lead time del proveedor requiere en promedio 15 metros adicionales de inventario para mantener el mismo nivel de servicio. Relación positiva: mayor retraso → mayor inventario de seguridad.\n",
        "# -Si sospecho colinealidad entre variables, dos acciones para mitigarla:\n",
        "# Calcular VIF y eliminar o consolidar variables con VIF alto: por ejemplo, si Demanda histórica y Capacidad efectiva están muy correlacionadas (ambas reflejan carga), podría mantener sólo la más predictiva o combinar en una métrica compuesta (ratio de demanda/capacidad).\n",
        "# -Usar regularización (Ridge o Lasso): Ridge reduce varianza de coeficientes colineales; Lasso puede hacer selección de variables eliminando algunas.\n"
      ],
      "id": "REUWPUP_H8fA"
    },
    {
      "cell_type": "markdown",
      "metadata": {
        "id": "Kfz2bBkzH8fA"
      },
      "source": [
        "---"
      ],
      "id": "Kfz2bBkzH8fA"
    },
    {
      "cell_type": "markdown",
      "metadata": {
        "id": "d0sQYW3DH8fA"
      },
      "source": [
        "## **Parte 5: Interacciones y Multicolinealidad (VIF)**\n",
        "\n",
        "1.  Plantea un caso con una variable $Y$ y entre 4 y 6 variables $X$. ¿Qué término de **interacción** entre dos variables podrías añadir al modelo y **por qué** crees que sería útil?\n",
        "2.  Si al calcular el Factor de Inflación de la Varianza (VIF) para una variable, obtienes un valor alto (ej. > 10), menciona **dos acciones** que podrías tomar para solucionarlo."
      ],
      "id": "d0sQYW3DH8fA"
    },
    {
      "cell_type": "markdown",
      "metadata": {
        "id": "tEgefQ1cH8fA"
      },
      "source": [
        "**Respuesta :**\n",
        "Y = Nivel inventario (m)\n",
        "\n",
        " 𝑋={Demanda historica,Lead time,Tasa scrap,Velocidad lınea,Tipo tejido (codificado),Stock en transito}\n",
        "\n",
        "Término de interacción sugerido:\n",
        "\n",
        "Demanda histórica × Lead time (X_demand × X_leadtime).\n",
        "\n",
        "Por qué: si la demanda histórica es alta y además el lead time es largo, el efecto en el inventario requerido es más que la suma individual (es multiplicativo): alta demanda con lead times largos multiplica la necesidad de inventario de seguridad. Incluir este término permite captar ese efecto conjunto.\n",
        "\n",
        "1.Si al calcular VIF una variable tiene VIF > 10, dos acciones a tomar:\n",
        "Centrare (mean-center) las variables continuas antes de crear interacciones: centrar reduce multicolinealidad entre términos principales e interactivos (por ejemplo, usar 𝑋−𝑋).\n",
        "\n",
        "Eliminar o combinar variables correlacionadas / aplicar PCA: crear componentes principales para representar la sub-estructura (p. ej. combinar medidas de capacidad en un índice) o eliminar variables menos relevantes tras análisis. Otra opción es usar Ridge si no quiero eliminar la variable."
      ],
      "id": "tEgefQ1cH8fA"
    },
    {
      "cell_type": "markdown",
      "metadata": {
        "id": "8XdQIyu_H8fB"
      },
      "source": [
        "---"
      ],
      "id": "8XdQIyu_H8fB"
    },
    {
      "cell_type": "markdown",
      "metadata": {
        "id": "XKsr-uPlH8fB"
      },
      "source": [
        "## **Parte 6: Variables Categóricas e Interacciones**\n",
        "\n",
        "1.  Define una **variable categórica** para tu caso (puedes inventarla si no la tenías). Elige una de sus categorías como el nivel **base** o de referencia y **justifica** tu elección.\n",
        "2.  Crea una **interacción** entre una variable numérica y la variable categórica que definiste. Explica cómo se interpretaría el coeficiente de esta interacción."
      ],
      "id": "XKsr-uPlH8fB"
    },
    {
      "cell_type": "markdown",
      "metadata": {
        "id": "7i_JBwwbH8fC"
      },
      "source": [
        "**Respuesta:**\n",
        "Variable categórica: Tipo de tejido = {Woven (tejido plano), Knit (tejido de punto), Nonwoven (no tejido)}.\n",
        "\n",
        "Nivel base (referencia): Woven (tejido plano).\n",
        "\n",
        "Justificación: es un tipo de tejido mayoritario en la línea y tiene comportamiento de producción más estable (menor variabilidad y scrap) — usarlo como referencia facilita comparar cómo difieren Knit y Nonwoven.\n",
        "\n",
        "Interacción propuesta: Velocidad_línea × Tipo_tecido_Knit (donde Tipo_tecido_Knit = 1 si Knit, 0 si referencia Woven).\n",
        "\n",
        " Interpretación del coeficiente de la interacción (β_inter):\n",
        "\n",
        "Supongamos β_inter = −2 (unidades: metros de inventario por (m/h) adicional cuando es Knit).\n",
        "\n",
        "Qué significa: el efecto de aumentar la velocidad de la línea en la necesidad de inventario es diferente para Knit que para Woven. Con β_inter negativo, un aumento de 1 m/h en la velocidad reduce el inventario requerido en 2 metros adicionales sólo para Knit respecto al efecto que tendría para Woven. Es decir, el impacto de la velocidad depende del tipo de tejido.\n",
        "\n",
        "\n",
        "\n"
      ],
      "id": "7i_JBwwbH8fC"
    },
    {
      "cell_type": "markdown",
      "metadata": {
        "id": "DjYrQWpqH8fC"
      },
      "source": [
        "---"
      ],
      "id": "DjYrQWpqH8fC"
    },
    {
      "cell_type": "markdown",
      "metadata": {
        "id": "mG9YJpeoH8fC"
      },
      "source": [
        "## **Parte 7: Conceptos Clave de Clasificación**\n",
        "\n",
        "Aunque el taller se centra en regresión, estos conceptos son fundamentales en Machine Learning.\n",
        "\n",
        "1.  Explica qué es la **curva ROC** y para qué se utiliza en un problema de clasificación.\n",
        "2.  Define el concepto de **accuracy** (exactitud) y menciona una situación en la que podría ser una métrica engañosa.\n",
        "3.  Describe qué es una **matriz de confusión** y cómo se interpretan sus componentes (Verdaderos Positivos, Falsos Positivos, Verdaderos Negativos, Falsos Negativos)."
      ],
      "id": "mG9YJpeoH8fC"
    },
    {
      "cell_type": "markdown",
      "metadata": {
        "id": "aq-cYN3nH8fD"
      },
      "source": [
        "**Respuesta:**\n",
        "Curva ROC (Receiver Operating Characteristic):\n",
        "\n",
        "Qué es: gráfico que pone en el eje vertical la tasa de verdaderos positivos (TPR = sensibilidad) y en el eje horizontal la tasa de falsos positivos (FPR = 1 − especificidad) para todos los umbrales posibles del clasificador (p. ej. probabilidad de defecto > t).\n",
        "\n",
        "Para qué se usa: evaluar la capacidad discriminativa del detector de defectos (si sabe distinguir bien entre rollos defectuosos y buenos) independientemente del umbral. El AUC-ROC resume el rendimiento: 1 = perfecto, 0.5 = azar.\n",
        "\n",
        "Accuracy (exactitud):\n",
        "\n",
        "Definición: proporción de predicciones correctas = (TP + TN) / (TP+TN+FP+FN).\n",
        "\n",
        "Cuándo es engañosa: si las clases están desbalanceadas — p. ej. sólo 1% de rollos tienen defectos, un modelo que predice “no defecto” siempre tendría 99% de accuracy pero sería inútil para detectar defectos (alto FN). En esos casos se prefieren recall, precision, F1 o curvas ROC/PR.\n",
        "\n",
        "Matriz de confusión:\n",
        "\n",
        "Tabla 2×2 con predicción vs realidad. Componentes:\n",
        "\n",
        "TP (Verdaderos Positivos): rollo con defecto y modelo lo clasificó como defecto (correcto).\n",
        "\n",
        "FP (Falsos Positivos): rollo bueno que el modelo clasificó como defectuoso (falso alarma).\n",
        "\n",
        "TN (Verdaderos Negativos): rollo bueno y modelo dijo “bueno”.\n",
        "\n",
        "FN (Falsos Negativos): rollo defectuoso que el modelo clasificó como bueno (fallo crítico).\n",
        "\n",
        "Interpretación práctica: para una planta textil, FN puede ser más costoso (cliente recibe defectos) que FP (inspección manual extra), por lo tanto a menudo optimizamos para minimizar FN (maximizar recall) manteniendo precision razonable.\n",
        "\n",
        "\n"
      ],
      "id": "aq-cYN3nH8fD"
    }
  ],
  "metadata": {
    "kernelspec": {
      "display_name": "Python 3",
      "language": "python",
      "name": "python3"
    },
    "language_info": {
      "name": "python",
      "version": "3.x"
    },
    "colab": {
      "provenance": [],
      "include_colab_link": true
    }
  },
  "nbformat": 4,
  "nbformat_minor": 5
}